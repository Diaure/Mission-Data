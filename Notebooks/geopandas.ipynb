{
 "cells": [
  {
   "cell_type": "code",
   "execution_count": 19,
   "metadata": {},
   "outputs": [],
   "source": [
    "import pandas as pd\n",
    "BN_BNA_sup_5_2022 = pd.read_csv(\"C:/Users/Lenovo/Documents/WCS/Mission_DATA/CSV/BN_BNA_sup_5_2022.csv\", sep=\",\")\n",
    "tour1_2022 = pd.read_csv(\"C:/Users/Lenovo/Documents/WCS/Mission_DATA/CSV/meilleurs_candidats_tour1_22.csv\", sep=\",\")\n"
   ]
  },
  {
   "cell_type": "code",
   "execution_count": 20,
   "metadata": {},
   "outputs": [
    {
     "data": {
      "text/plain": [
       "31236"
      ]
     },
     "execution_count": 20,
     "metadata": {},
     "output_type": "execute_result"
    }
   ],
   "source": [
    "BN_BNA_sup_5_2022['Libellé de la commune'].nunique()"
   ]
  },
  {
   "cell_type": "code",
   "execution_count": 21,
   "metadata": {},
   "outputs": [
    {
     "data": {
      "text/plain": [
       "Index(['Unnamed: 0', 'Tour', 'Année_élection', 'Libellé de la commune',\n",
       "       'Blancs et nuls', 'Blancs_nuls et abstentions', 'Coordonnées',\n",
       "       'longitude', 'latitude'],\n",
       "      dtype='object')"
      ]
     },
     "execution_count": 21,
     "metadata": {},
     "output_type": "execute_result"
    }
   ],
   "source": [
    "BN_BNA_sup_5_2022.columns"
   ]
  },
  {
   "cell_type": "code",
   "execution_count": 23,
   "metadata": {},
   "outputs": [
    {
     "data": {
      "text/plain": [
       "Index(['Unnamed: 0', 'index', 'Départements', 'Candidats', 'Votes',\n",
       "       'coordonnées', 'longitude', 'latitude'],\n",
       "      dtype='object')"
      ]
     },
     "execution_count": 23,
     "metadata": {},
     "output_type": "execute_result"
    }
   ],
   "source": [
    "tour1_2022.columns"
   ]
  },
  {
   "cell_type": "code",
   "execution_count": 25,
   "metadata": {},
   "outputs": [
    {
     "data": {
      "text/plain": [
       "87"
      ]
     },
     "execution_count": 25,
     "metadata": {},
     "output_type": "execute_result"
    }
   ],
   "source": [
    "tour1_2022['Départements'].nunique()"
   ]
  },
  {
   "cell_type": "code",
   "execution_count": 26,
   "metadata": {},
   "outputs": [
    {
     "data": {
      "text/plain": [
       "Candidats\n",
       "Blancs_nuls et abstentions    77\n",
       "Emmanuel MACRON                7\n",
       "Marine LE PEN                  6\n",
       "Jean-Luc MÉLENCHON             1\n",
       "Name: count, dtype: int64"
      ]
     },
     "execution_count": 26,
     "metadata": {},
     "output_type": "execute_result"
    }
   ],
   "source": [
    "tour1_2022['Candidats'].value_counts()"
   ]
  },
  {
   "cell_type": "code",
   "execution_count": null,
   "metadata": {},
   "outputs": [],
   "source": [
    "import folium\n",
    "from folium.plugins import MarkerCluster\n",
    "\n",
    "# supprimer les nan et changer le format de la colonne Tour en string\n",
    "sup5_BN_BNA_sans_nan = BN_BNA_sup_5_2022.dropna()\n",
    "sup5_BN_BNA_sans_nan['Tour'] = sup5_BN_BNA_sans_nan['Tour'].astype(str)\n",
    "\n",
    "tours = list(sup5_BN_BNA_sans_nan['Tour'].unique()) # faire afficher les valeurs uniques de la colonne\n",
    "\n",
    "# centrer la carte sur la France\n",
    "latitude_centre = 46.603354\n",
    "longitude_centre = 1.888152\n",
    "m = folium.Map(location=[latitude_centre, longitude_centre], zoom_start=6)\n",
    "\n",
    "# créer des groupes pour chaque tour\n",
    "groupes_tours = {}\n",
    "\n",
    "for tour in tours:\n",
    "    filtre = sup5_BN_BNA_sans_nan[sup5_BN_BNA_sans_nan['Tour'] == tour] # créer un filtre pour chaque tour\n",
    "    groupe = folium.FeatureGroup(name=f\"Tour {tour}\")  # créée des groupes filtrables en utilisant FeatureGroup qui permet d’activer ou désactiver les marqueurs\n",
    "    marker_cluster = MarkerCluster().add_to(groupe)\n",
    "\n",
    "    for _, row in filtre.iterrows():\n",
    "        folium.Marker(\n",
    "            location=[row['latitude'], row['longitude']],\n",
    "            tooltip=f\"<b>Commune:</b> {row['Libellé de la commune']}<br><b>Blancs et nuls:</b> {row['Blancs et nuls']}<br><b>Blancs, nuls et abstentions:</b> {row['Blancs_nuls et abstentions']}\",\n",
    "            icon=folium.Icon(color='purple')\n",
    "        ).add_to(marker_cluster)\n",
    "\n",
    "    groupe.add_to(m)  # Ajout du groupe à la carte\n",
    "    groupes_tours[tour] = groupe  # Stockage du groupe\n",
    "\n",
    "# Ajout du contrôle des couches\n",
    "folium.LayerControl(collapsed=False).add_to(m) # LayerControl permet à l’utilisateur d’afficher les tours avec des cases à cocher\n",
    "\n",
    "# Affichage de la carte\n",
    "m.save(\"map_sup5.html\")\n",
    "m\n"
   ]
  },
  {
   "cell_type": "code",
   "execution_count": null,
   "metadata": {},
   "outputs": [],
   "source": [
    "import folium\n",
    "from folium.plugins import MarkerCluster\n",
    "\n",
    "tour1_2022_sans_nan = tour1_2022.dropna()\n",
    "\n",
    "# centrer la carte sur la France\n",
    "latitude_centre = 46.603354\n",
    "longitude_centre = 1.888152\n",
    "m = folium.Map(location=[latitude_centre, longitude_centre], zoom_start=6)\n",
    "\n",
    "# créer un dictionnaire pour stocker les groupes par candidat\n",
    "groupes_candidats = {}\n",
    "\n",
    "# parcours la liste des candidats afin de créer un groupe pour chacun\n",
    "for candidat in tour1_2022_sans_nan[\"Candidats\"].unique():\n",
    "    groupe = folium.FeatureGroup(name=candidat)  # créee le groupe pour un candidat\n",
    "    marker_cluster = MarkerCluster().add_to(groupe)  # ajoute du clustering\n",
    "\n",
    "    # filtrer les données selon le candidat\n",
    "    df_filtre = tour1_2022_sans_nan[tour1_2022_sans_nan[\"Candidats\"] == candidat]\n",
    "\n",
    "    # code pour ajouter des marqueurs avec texte\n",
    "    for _, row in df_filtre.iterrows():\n",
    "        folium.Marker(\n",
    "            location=[row['latitude'], row['longitude']],\n",
    "            tooltip=f\"<b>{candidat}<br><b>Département:</b> {row['Départements']}<br><b>Score:</b> {row['Votes']}\",\n",
    "            icon=folium.Icon(color=\"blue\")\n",
    "        ).add_to(marker_cluster)\n",
    "\n",
    "    # Ajout du groupe à la carte\n",
    "    groupes_candidats[candidat] = groupe\n",
    "    m.add_child(groupe)\n",
    "\n",
    "# contrôle des groupes sur la carte\n",
    "folium.LayerControl().add_to(m)\n",
    "\n",
    "# Affichage de la carte\n",
    "m.save(\"map_departements.html\")\n",
    "m\n",
    "\n"
   ]
  }
 ],
 "metadata": {
  "kernelspec": {
   "display_name": "base",
   "language": "python",
   "name": "python3"
  },
  "language_info": {
   "codemirror_mode": {
    "name": "ipython",
    "version": 3
   },
   "file_extension": ".py",
   "mimetype": "text/x-python",
   "name": "python",
   "nbconvert_exporter": "python",
   "pygments_lexer": "ipython3",
   "version": "3.12.7"
  }
 },
 "nbformat": 4,
 "nbformat_minor": 2
}
